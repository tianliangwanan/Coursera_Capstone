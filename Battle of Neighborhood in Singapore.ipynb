{
 "cells": [
  {
   "cell_type": "code",
   "execution_count": 1,
   "metadata": {},
   "outputs": [
    {
     "name": "stdout",
     "output_type": "stream",
     "text": [
      "Libraries imported.\n"
     ]
    }
   ],
   "source": [
    "from bs4 import BeautifulSoup\n",
    "import pandas as pd\n",
    "\n",
    "import numpy as np\n",
    "import json # library to handle JSON files\n",
    "\n",
    "#!conda install -c conda-forge geopy\n",
    "from geopy.geocoders import Nominatim # convert an address into latitude and longitude values\n",
    "\n",
    "import requests # library to handle requests\n",
    "from pandas.io.json import json_normalize # tranform JSON file into a pandas dataframe\n",
    "\n",
    "# Matplotlib and associated plotting modules\n",
    "import matplotlib.cm as cm\n",
    "import matplotlib.colors as colors\n",
    "\n",
    "# import k-means from clustering stage\n",
    "from sklearn.cluster import KMeans\n",
    "\n",
    "#!conda install -c conda-forge folium=0.5.0\n",
    "import folium # map rendering library\n",
    "\n",
    "print('Libraries imported.')"
   ]
  },
  {
   "cell_type": "markdown",
   "metadata": {},
   "source": [
    "# # Introduction\n",
    "Singapore is a international vibrant country city in Asia. Singapore is the world's most competitive economy, according to an updated global league table. It scored 84.8 out of a possible 100, beating the United States to the top spot in the ranking of 141 economies.The US, which topped the charts last year, scored 83.7. Thanks to its strategic location, reliable government and business-friendly environement, Singapore become top choice for global business enitities to put their APAC head quarters in. Expariates pick Singapore as their most wanted place for their next move because it's safe, bilingual and multinationalized. One possible and real life question firstly come up when Expariate relocate to Singapore would be,where should I live, or where should I rent my house if the accomodation is not arranged by company which should be most of the cases. Most company provides relocation package and allowance to let you choose yourself the place you want to stay. Singapore is a small island but contains 28 districts, which further splits into different areas. It's indeed a headache for those who come to Singapore for first time to choose which neighborhood is best for them. \n",
    "In this project, I will go through the data from different districts and areas using four square api to explore these neighborhood. \n",
    "\n",
    "# # Data\n",
    "To simplify the analysis, assumption that the expatriates mostly work in CBD area or we called Core Central Region (CCR) in Singapore has been made.Depends on Expatriate profile, he or she might come to Singapore alone or with family, so a two-bed room condo unit or one-bedroom unit might be in favour to them probably. With a budget of 3000SGD, an expatriates could get a one-bedroom or just a studio in CCR region, while in Rest of Central Region (RCR), he/she could rent a two-bedroom condo unit. The commute time from RCR to CBD is within 30min by public transport or less than 20min by car, which should be acceptable. \n",
    "To start with RCR areas in Singapore, I googled \"Singapore RCR\" and retrieved a table of areas in each of the RCR districts."
   ]
  },
  {
   "cell_type": "code",
   "execution_count": 25,
   "metadata": {},
   "outputs": [
    {
     "data": {
      "text/html": [
       "<div>\n",
       "<style scoped>\n",
       "    .dataframe tbody tr th:only-of-type {\n",
       "        vertical-align: middle;\n",
       "    }\n",
       "\n",
       "    .dataframe tbody tr th {\n",
       "        vertical-align: top;\n",
       "    }\n",
       "\n",
       "    .dataframe thead th {\n",
       "        text-align: right;\n",
       "    }\n",
       "</style>\n",
       "<table border=\"1\" class=\"dataframe\">\n",
       "  <thead>\n",
       "    <tr style=\"text-align: right;\">\n",
       "      <th></th>\n",
       "      <th>District</th>\n",
       "      <th>Area</th>\n",
       "    </tr>\n",
       "  </thead>\n",
       "  <tbody>\n",
       "    <tr>\n",
       "      <td>1</td>\n",
       "      <td>3</td>\n",
       "      <td>Alexandra Road, Tiong Bahru, Queenstown</td>\n",
       "    </tr>\n",
       "    <tr>\n",
       "      <td>2</td>\n",
       "      <td>4</td>\n",
       "      <td>Keppel, Mount Faber, Telok Blangah</td>\n",
       "    </tr>\n",
       "    <tr>\n",
       "      <td>3</td>\n",
       "      <td>5</td>\n",
       "      <td>Buona Vista, Dover, Pasir Panjang, West Coast</td>\n",
       "    </tr>\n",
       "    <tr>\n",
       "      <td>4</td>\n",
       "      <td>7</td>\n",
       "      <td>Beach Road, Bencoolen Road, Bugis, Rochor</td>\n",
       "    </tr>\n",
       "    <tr>\n",
       "      <td>5</td>\n",
       "      <td>8</td>\n",
       "      <td>Little India, Farrer Park, Serangoon Road</td>\n",
       "    </tr>\n",
       "    <tr>\n",
       "      <td>6</td>\n",
       "      <td>12</td>\n",
       "      <td>Balestier, Moulmein, Novena, Toa Payoh</td>\n",
       "    </tr>\n",
       "    <tr>\n",
       "      <td>7</td>\n",
       "      <td>13</td>\n",
       "      <td>Potong Pasir, Macpherson</td>\n",
       "    </tr>\n",
       "    <tr>\n",
       "      <td>8</td>\n",
       "      <td>14</td>\n",
       "      <td>Eunos, Geylang, Kembangan, Paya Lebar</td>\n",
       "    </tr>\n",
       "    <tr>\n",
       "      <td>9</td>\n",
       "      <td>15</td>\n",
       "      <td>Katong, Marine Parade, Siglap, Tanjong Rhu</td>\n",
       "    </tr>\n",
       "    <tr>\n",
       "      <td>10</td>\n",
       "      <td>20</td>\n",
       "      <td>Ang Mo Kio, Bishan, Braddell Road, Thomson</td>\n",
       "    </tr>\n",
       "  </tbody>\n",
       "</table>\n",
       "</div>"
      ],
      "text/plain": [
       "0  District                                           Area\n",
       "1         3        Alexandra Road, Tiong Bahru, Queenstown\n",
       "2         4             Keppel, Mount Faber, Telok Blangah\n",
       "3         5  Buona Vista, Dover, Pasir Panjang, West Coast\n",
       "4         7      Beach Road, Bencoolen Road, Bugis, Rochor\n",
       "5         8      Little India, Farrer Park, Serangoon Road\n",
       "6        12         Balestier, Moulmein, Novena, Toa Payoh\n",
       "7        13                       Potong Pasir, Macpherson\n",
       "8        14          Eunos, Geylang, Kembangan, Paya Lebar\n",
       "9        15     Katong, Marine Parade, Siglap, Tanjong Rhu\n",
       "10       20     Ang Mo Kio, Bishan, Braddell Road, Thomson"
      ]
     },
     "execution_count": 25,
     "metadata": {},
     "output_type": "execute_result"
    }
   ],
   "source": [
    "source = requests.get('https://www.iproperty.com.sg/news/what-do-ccr-rcr-and-ocr-mean-in-singapore-property/').text\n",
    "soup = BeautifulSoup(source, 'lxml')\n",
    "table = soup.findAll('table')[1]\n",
    "#print(table.prettify())\n",
    "sg_df = pd.read_html(str(table))[0]\n",
    "sg_df.columns = sg_df.iloc[0]\n",
    "sg_df = sg_df[1:]\n",
    "sg_df"
   ]
  },
  {
   "cell_type": "markdown",
   "metadata": {},
   "source": [
    "These general areas will be used to explore the most popular venues through FourSquare API. "
   ]
  },
  {
   "cell_type": "code",
   "execution_count": null,
   "metadata": {},
   "outputs": [],
   "source": []
  }
 ],
 "metadata": {
  "kernelspec": {
   "display_name": "Python 3",
   "language": "python",
   "name": "python3"
  },
  "language_info": {
   "codemirror_mode": {
    "name": "ipython",
    "version": 3
   },
   "file_extension": ".py",
   "mimetype": "text/x-python",
   "name": "python",
   "nbconvert_exporter": "python",
   "pygments_lexer": "ipython3",
   "version": "3.7.3"
  }
 },
 "nbformat": 4,
 "nbformat_minor": 2
}
